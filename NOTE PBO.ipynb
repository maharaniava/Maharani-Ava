{
 "cells": [
  {
   "cell_type": "markdown",
   "metadata": {},
   "source": [
    "## **1) Class vs Object**"
   ]
  },
  {
   "cell_type": "markdown",
   "metadata": {},
   "source": [
    "- **Class** adalah seperangkat artibut yang menjadi ciri object kelas apapun, class juga adalah suatu entitas yang merupakan bentuk program dari suatu abstraksi untuk permasalahan dunia nyata, dan instans dari class merupakan realisasi dari beberapa objek. Dalam sebuah class kamu dapat menyimpan sebuah state tanpa harus membuat banyak state bila tidak menggunakan class.\n",
    "\n",
    "Class :"
   ]
  },
  {
   "cell_type": "code",
   "execution_count": null,
   "metadata": {},
   "outputs": [],
   "source": [
    "class mhs:\n",
    "    def __init__(self,nama,nim,ips1,ips2,ips3):\n",
    "        self.nama=nama\n",
    "        self.nim=nim\n",
    "        self.ips1=ips1\n",
    "        self.ips2=ips2\n",
    "        self.ips3=ips3\n",
    "    def tampilkan(self):\n",
    "        print(\"Nama: \", self.nama,\"NIM: \",self.nim)\n",
    "    def tampilkanipk(self):\n",
    "        print(\"ipk= \",((self.ips1+self.ips2+self.ips3)/3))\n",
    "    def bidikmisi(self):\n",
    "        if (self.ips1+self.ips2+self.ips3)/3 > 3:\n",
    "            print (\"Layak mendapatkan beasiswa BIDIKMISI\")\n",
    "        else:\n",
    "            print(\"Belum layak mendapat beasiswa BIDIKMISI\")\n",
    "    def semester(self):\n",
    "        skrng= datetime.now()\n",
    "        bln= datetime.now()\n",
    "        tahun= str(skrng.year)\n",
    "        n= (bln.month)\n",
    "        print(\"Waktu saat ini: \",bln)\n",
    "        a=int(self.nim[0:2])\n",
    "        b=int(tahun[2: ])\n",
    "        bulan=int(n)\n",
    "        c=b-a\n",
    "        if a==b and bulan < 8:\n",
    "            print(\"Anda belum masuk kuliah\")\n",
    "        else:\n",
    "            c+=1\n",
    "            print(\"Anda saat ini semester\", c)"
   ]
  },
  {
   "cell_type": "markdown",
   "metadata": {},
   "source": [
    "- **Objek** adalah turunan dari kelas, Jika class secara umum merepresentasikan (template) sebuah object, maka sebuah instance adalah representasi nyata dari class itu sendiri. Objek adalah sesuatu yang menampung nilai/data dan dapat kita kenakan operasi tertentu. Di dunia nyata ini, banyak hal yang bisa kita sebut objek. Buku misalnya, merupakan objek karena menampung informasi dan dapat kita baca (kenakan operasi baca) atau tulis (kenakan operasi tulis). Sepeda, binatang, manusia, semua juga bisa disebut objek.\n",
    "\n",
    "Obejct:\n"
   ]
  },
  {
   "cell_type": "code",
   "execution_count": null,
   "metadata": {},
   "outputs": [],
   "source": [
    "na=mhs(\"Maharani Ava Ningrum\",\"180441100046\",3.6,3.6,3.6)"
   ]
  },
  {
   "cell_type": "markdown",
   "metadata": {},
   "source": [
    "Kita bisa lihat dari contoh gambar dibawah ini : \n",
    "<img src=\"files/1.jpg\">"
   ]
  },
  {
   "cell_type": "markdown",
   "metadata": {},
   "source": [
    "Kita dapat mengetahui dari gamabar diatas, bahwa objek adalah turunan dari class dan didalam class terdapat metode serta artibut.\n",
    "\n",
    "ini adalah contoh program dengan menggunakan class serta objek"
   ]
  },
  {
   "cell_type": "code",
   "execution_count": 2,
   "metadata": {},
   "outputs": [
    {
     "name": "stdout",
     "output_type": "stream",
     "text": [
      "Nama:  Maharani Ava Ningrum\n",
      "NIM:  180441100046\n",
      "ipk=  3.6\n",
      "Layak mendapatkan beasiswa BIDIKMISI\n",
      "Waktu saat ini:  2019-04-03 18:05:47.494336\n",
      "Anda saat ini semester 2\n"
     ]
    }
   ],
   "source": [
    "from datetime import datetime\n",
    "from datetime import time\n",
    "class mhs:\n",
    "    def __init__(self,nama,nim,ips1,ips2,ips3):\n",
    "        self.nama=nama\n",
    "        self.nim=nim\n",
    "        self.ips1=ips1\n",
    "        self.ips2=ips2\n",
    "        self.ips3=ips3\n",
    "    def tampilkan(self):\n",
    "        print(\"Nama: \", self.nama)\n",
    "        print(\"NIM: \",self.nim)\n",
    "    def tampilkanipk(self):\n",
    "        print(\"ipk= \",((self.ips1+self.ips2+self.ips3)/3))\n",
    "    def bidikmisi(self):\n",
    "        if (self.ips1+self.ips2+self.ips3)/3 > 3:\n",
    "            print (\"Layak mendapatkan beasiswa BIDIKMISI\")\n",
    "        else:\n",
    "            print(\"Belum layak mendapat beasiswa BIDIKMISI\")\n",
    "    def semester(self):\n",
    "        skrng= datetime.now()\n",
    "        bln= datetime.now()\n",
    "        tahun= str(skrng.year)\n",
    "        n= (bln.month)\n",
    "        print(\"Waktu saat ini: \",bln)\n",
    "        a=int(self.nim[0:2])\n",
    "        b=int(tahun[2: ])\n",
    "        bulan=int(n)\n",
    "        c=b-a\n",
    "        if a==b and bulan < 8:\n",
    "            print(\"Anda belum masuk kuliah\")\n",
    "        else:\n",
    "            c+=1\n",
    "            print(\"Anda saat ini semester\", c)\n",
    "            \n",
    "na=mhs(\"Maharani Ava Ningrum\",\"180441100046\",3.6,3.6,3.6)\n",
    "na.tampilkan()\n",
    "na.tampilkanipk()\n",
    "na.bidikmisi()\n",
    "na.semester()"
   ]
  },
  {
   "cell_type": "markdown",
   "metadata": {},
   "source": [
    "# **2) Inheritance dan Type Inheritance**"
   ]
  },
  {
   "cell_type": "markdown",
   "metadata": {},
   "source": [
    "- **Inheritance** (warisan atau turunan) adalah sebuah proses dimana sebuah class mengambil semua properti dan semua metode dari kelas lain. Kelas yang disebut kelas anak atau subclass mewarisi metode dan variabel dari kelas induk atau kelas dasar"
   ]
  },
  {
   "cell_type": "markdown",
   "metadata": {},
   "source": [
    "Kita bisa lihat dari contoh gambar dibawah ini:\n",
    "<img src=\"2.jpg\">"
   ]
  },
  {
   "cell_type": "markdown",
   "metadata": {},
   "source": [
    "- **Type Inheritance**\n",
    "didalam inheritance terdapat type ineritance. Type inheritance dibagi menjadi 4, yaitu default(pass), overriding, super, dan multiple inheritance."
   ]
  },
  {
   "cell_type": "markdown",
   "metadata": {},
   "source": [
    "Kita bisa llihat perbedaanya\n",
    "<img src=\"files/neh.png\">"
   ]
  },
  {
   "cell_type": "markdown",
   "metadata": {},
   "source": [
    "**Default** : Keseluruhan (property, property dan method)\n",
    "- Sifat anak turunannya sama dengan induknya secara keseluruhan. Didalam default, kita bisa menggunakan kata kunci *pass*\n",
    "\n",
    "dibawah ini adalah contoh program dari Type inheritance Default\n"
   ]
  },
  {
   "cell_type": "code",
   "execution_count": 1,
   "metadata": {},
   "outputs": [
    {
     "name": "stdout",
     "output_type": "stream",
     "text": [
      "Name= brian\n",
      "Name= Diana\n",
      "Programming Python\n"
     ]
    }
   ],
   "source": [
    "class User:\n",
    "    name = (\"\")\n",
    "    def __init__(self,name):\n",
    "        self.name=name\n",
    "    def printName(self):\n",
    "        print (\"Name= \"+(self.name))\n",
    "class Programmer(User):\n",
    "    pass\n",
    "\n",
    "    def doPython(self):\n",
    "        print (\"Programming Python\")\n",
    "brian=User(\"brian\")\n",
    "brian.printName()\n",
    "diana=Programmer(\"Diana\")\n",
    "diana.printName()\n",
    "diana.doPython()"
   ]
  },
  {
   "cell_type": "markdown",
   "metadata": {},
   "source": [
    "**Overriding** : Terdapat Perbedaan pada sifat, tapi sama-sama punya nama, signature, dan parameter (property/method, property dan method)\n",
    "- Merupakan suatu keadaan dimana kelas anak dapat mengubah atau bisa kita bilang memodifikasi atau memperluas property dan method pada kelas induk.\n",
    "\n",
    "dibawah ini adalah contoh program dari Type Inheritance Overriding"
   ]
  },
  {
   "cell_type": "code",
   "execution_count": 2,
   "metadata": {},
   "outputs": [
    {
     "name": "stdout",
     "output_type": "stream",
     "text": [
      "Masukkan Jari2= 14\n",
      "Jari-jari Lingkaran= 14\n",
      "Luas Lingkaran=615.44\n",
      "Keliling Lingkaran=87.92\n",
      "Masukkan Jari2= 14\n",
      "Masukkan Tinggi= 10\n",
      "Luas Permukaan Tabung=2110.08\n"
     ]
    }
   ],
   "source": [
    "class lingkaran:\n",
    "    def __init__(self,r):\n",
    "        self.r=int(input(\"Masukkan Jari2= \"))\n",
    "    def jari(self):\n",
    "        print(\"Jari-jari Lingkaran=\", self.r)\n",
    "    def luaslingkaran(self):\n",
    "        print(\"Luas Lingkaran=%.2f\"%(3.14*(self.r**2)))\n",
    "    def kelilinglingkaran(self):\n",
    "        print(\"Keliling Lingkaran=%.2f\"%(2*3.14*(self.r)))\n",
    "\n",
    "class tabung(lingkaran):\n",
    "    def __init__(self,r,t):\n",
    "        self.r=int(input(\"Masukkan Jari2= \"))\n",
    "        self.t=int(input(\"Masukkan Tinggi= \"))\n",
    "    def luaspt(self):\n",
    "        print(\"Luas Permukaan Tabung=%.2f\"%(2*3.14*self.r*(self.r+self.t)))\n",
    "\n",
    "luaspermukaan=lingkaran(\"Luas dan Keliling\")\n",
    "luaspermukaan.jari()\n",
    "luaspermukaan.luaslingkaran()\n",
    "luaspermukaan.kelilinglingkaran()\n",
    "luaspermukaan1=tabung(\"Jari-Jari\",\"Tinggi\")\n",
    "luaspermukaan1.luaspt()"
   ]
  },
  {
   "cell_type": "markdown",
   "metadata": {},
   "source": [
    "**Super** : Keunikan pada anak induk (Property) "
   ]
  },
  {
   "cell_type": "markdown",
   "metadata": {},
   "source": [
    "- Pada super ineritance, terdapat fungsi super(), fungsi super() ini berfungsi untuk merujuk kepada kelas induk dari object, dan fungsi super() ini juga mengembalikan artibut dan metode dari super object (induk) suatu kelas.\n",
    "\n",
    "Dibawah ini adalah contoh program dari Type Inheritance Super"
   ]
  },
  {
   "cell_type": "code",
   "execution_count": 1,
   "metadata": {},
   "outputs": [
    {
     "name": "stdout",
     "output_type": "stream",
     "text": [
      "Nama Mahasiswa:  Maharani Ava Ningrum\n",
      "Nim Mahasiswa:  180441100046\n",
      "\n",
      "Nama Pegawai:  Bambang\n",
      "Nomer Pegawai:  12345\n"
     ]
    }
   ],
   "source": [
    "class orang:\n",
    "    def __init__(self,mhs,npm,pegawai,nip):\n",
    "        self.mhs=mhs\n",
    "        self.npm=npm\n",
    "        self.pegawai=pegawai\n",
    "        self.nip=nip\n",
    "class pegawai(orang):\n",
    "    def __init__(self,mhs,npm,pegawai,nip):\n",
    "        super().__init__(self)\n",
    "ava=orang(\"Maharani Ava Ningrum\",\"180441100046\",\"Bambang\",\"12345\")\n",
    "print(\"Nama Mahasiswa: \", ava.mhs)\n",
    "print(\"Nim Mahasiswa: \", ava.npm)\n",
    "print(\"\")\n",
    "print(\"Nama Pegawai: \", ava.pegawai)\n",
    "print(\"Nomer Pegawai: \", ava.nip)"
   ]
  },
  {
   "cell_type": "markdown",
   "metadata": {},
   "source": [
    "**Multiple Inheritance** : Class yang diturunankan dari beberapa class induk"
   ]
  },
  {
   "cell_type": "markdown",
   "metadata": {},
   "source": [
    "- Multiple Ineritance ini mempunyai kelas turunan yang dapat mewrisi karakteristik yang dimiliki oleh kelas-kelas induknya.\n",
    "\n",
    "Dibawah ini adalah contoh program dari Type Mutiple Inheritance"
   ]
  },
  {
   "cell_type": "code",
   "execution_count": 3,
   "metadata": {},
   "outputs": [
    {
     "name": "stdout",
     "output_type": "stream",
     "text": [
      "Nama Kuda=  Bambang\n",
      "Jenis Rambut=  lurus\n",
      "Nama Keledai=  mas jhon\n",
      "Berat Keledai=  100\n",
      "Nama Mule=  Inces\n",
      "Jenis rambut=  Gelombang\n",
      "Berat Badan=  90\n"
     ]
    }
   ],
   "source": [
    "class kuda:\n",
    "    def __init__(self,nama,jenisrambut):\n",
    "        self.nama= nama\n",
    "        self.jenisrambut= jenisrambut\n",
    "    def tampilkankuda(self):\n",
    "        print(\"Nama Kuda= \", self.nama)\n",
    "        print(\"Jenis Rambut= \", self.jenisrambut)\n",
    "kd= kuda(\"Bambang\",\"lurus\")\n",
    "kd.tampilkankuda()\n",
    "\n",
    "class keledai:\n",
    "    def __init__(self,nama,berat):\n",
    "        self.nama=nama\n",
    "        self.berat=berat\n",
    "    def tampilkankeledai(self):\n",
    "        print(\"Nama Keledai= \", self.nama)\n",
    "        print(\"Berat Keledai= \", self.berat)\n",
    "kl= keledai(\"mas jhon\",100)\n",
    "kl.tampilkankeledai()\n",
    "\n",
    "class mule(kuda,keledai):\n",
    "    def __init__(self,nama,jenisrambut,berat):\n",
    "        kuda.__init__(self,nama,jenisrambut)\n",
    "        keledai.__init__(self,nama,berat)\n",
    "    def tampilkanmule(self):\n",
    "        print(\"Nama Mule= \", self.nama)\n",
    "        print(\"Jenis rambut= \", self.jenisrambut)\n",
    "        print(\"Berat Badan= \", self.berat)\n",
    "        \n",
    "        \n",
    "ml=mule(\"Inces\",\"Gelombang\",90)\n",
    "ml.tampilkanmule()\n"
   ]
  },
  {
   "cell_type": "markdown",
   "metadata": {},
   "source": [
    "# 3) Polymorphisme "
   ]
  },
  {
   "cell_type": "markdown",
   "metadata": {},
   "source": [
    "- **Polymorpisme** adalah suatu object dapat memiliki berbagai bentuk, sebagai object dari class sendiri atau object dari superclassnya. Polymorphisme dapat berati banyak bentuk, maksudnya yaitu dapat menimpa(override), suatu method, yang berasal dari parent class dimana object tersebut diturunkan, sehingga memiliki kelakuan yang berbeda.\n",
    "- Didalam polymorphisme ada yang namanya abstract class, yaitu dibuat untuk diturunkan ke Class lain dengan kata lain Abstract class akan berisi semua yang paling general dari class-class anaknya. Namun abstract class tidak bisa dibuatkan objectnya sendiri. Pada abstract class terdapat fungsi raise NotImplementedError yang fungsinya untuk menunjukan bahwa method yang perlu didefinisikan oleh subclass."
   ]
  },
  {
   "cell_type": "markdown",
   "metadata": {},
   "source": [
    "Kita bisa lihat dari contoh gambar dibawah ini : \n",
    "<img src=\"files/3.jpg\">"
   ]
  },
  {
   "cell_type": "markdown",
   "metadata": {},
   "source": [
    "Dibawah ini adalah contoh program tentang Polymorphisme"
   ]
  },
  {
   "cell_type": "code",
   "execution_count": 4,
   "metadata": {},
   "outputs": [
    {
     "name": "stdout",
     "output_type": "stream",
     "text": [
      "Kucing:Berjalan Dengan 4 Kaki bersuara Meong\n",
      "Anjing:Berjalan Dengan 4 Kaki bersuara guk\n",
      "Ular:Melata bersuara ssssttttt\n"
     ]
    }
   ],
   "source": [
    "class binatang:\n",
    "    def __init__(self, nama):\n",
    "        self.nama=nama\n",
    "    def berjalan(self):\n",
    "        raise NotImplementedError(\"Subclass not implemented abstract method\")\n",
    "    def bersuara(self):\n",
    "        raise NotImplementedError(\"Subclass not implemented abstract method\")\n",
    "class kucing(binatang):\n",
    "    def berjalan(self):\n",
    "        return \"Berjalan Dengan 4 Kaki\"\n",
    "    def bersuara(self):\n",
    "        return \"Meong\"\n",
    "\n",
    "class anjing(binatang):\n",
    "    def berjalan(self):\n",
    "        return \"Berjalan Dengan 4 Kaki\"\n",
    "    def bersuara(self):\n",
    "        return \"guk\"\n",
    "\n",
    "class ular(binatang):\n",
    "    def berjalan(self):\n",
    "        return \"Melata\"\n",
    "    def bersuara(self):\n",
    "        return \"ssssttttt\"\n",
    "\n",
    "binatangs=[kucing(\"Kucing\"), anjing(\"Anjing\"), ular(\"Ular\")]\n",
    "for binatang in binatangs:\n",
    "    print(binatang.nama+\":\"+binatang.berjalan()+\" \"+\"bersuara\"+\" \"+binatang.bersuara())\n"
   ]
  },
  {
   "cell_type": "code",
   "execution_count": 5,
   "metadata": {},
   "outputs": [
    {
     "name": "stdout",
     "output_type": "stream",
     "text": [
      "\n",
      "Nama:  Persegi panjang\n",
      "Warna:  Biru\n",
      "Jumlah Garis:  4\n",
      "Besar Tiap sudut:  90\n",
      "\n",
      "Nama:  Persegi panjang\n",
      "Warna:  merah\n",
      "Jumlah Garis:  4\n",
      "Besar Tiap sudut:  90\n",
      "\n",
      "Nama:  Persegi panjang\n",
      "Warna:  kuning\n",
      "Jumlah Garis:  4\n",
      "Besar Tiap sudut:  90\n",
      "\n",
      "Nama:  Lingkaran\n",
      "Warna:  Merah\n",
      "Jumlah Garis:  0\n",
      "Besar Tiap sudut:  360\n",
      "\n",
      "Nama:  Lingkaran\n",
      "Warna:  Biru\n",
      "Jumlah Garis:  0\n",
      "Besar Tiap sudut:  360\n",
      "\n",
      "Nama:  Lingkaran\n",
      "Warna:  Kuning\n",
      "Jumlah Garis:  0\n",
      "Besar Tiap sudut:  360\n",
      "\n",
      "Nama:  segitiga\n",
      "Warna:  ungu\n",
      "Jumlah Garis:  3\n",
      "Besar Tiap sudut:  90\n",
      "\n",
      "Nama:  segitiga\n",
      "Warna:  orange\n",
      "Jumlah Garis:  3\n",
      "Besar Tiap sudut:  90\n",
      "\n",
      "Nama:  segitiga\n",
      "Warna:  abu abu\n",
      "Jumlah Garis:  3\n",
      "Besar Tiap sudut:  90\n"
     ]
    }
   ],
   "source": [
    "class shape:\n",
    "    def __init__(self,nama, warna, jumlahgaris):\n",
    "        self.nama=nama\n",
    "        self.warna=warna\n",
    "        self.jumlahgaris=jumlahgaris\n",
    "    def showProperty(self):\n",
    "        raise NotImplementedError(\"Subclass not implemented abstract method\")\n",
    "class rectangle(shape):\n",
    "    def __init__(self, nama, warna, jumlahgaris, sudut):\n",
    "        self.sudut=sudut\n",
    "        super().__init__(nama, warna, jumlahgaris)\n",
    "    def showProperty(self):\n",
    "        print()\n",
    "        print(\"Nama: \", self.nama)\n",
    "        print(\"Warna: \", self.warna)\n",
    "        print(\"Jumlah Garis: \", self.jumlahgaris)\n",
    "        print(\"Besar Tiap sudut: \", self.sudut)\n",
    "class circle(shape):\n",
    "    def __init__(self, nama, warna, jumlahgaris, sudut):\n",
    "        self.sudut=sudut\n",
    "        super().__init__(nama, warna, jumlahgaris)\n",
    "    def showProperty(self):\n",
    "        print()\n",
    "        print(\"Nama: \", self.nama)\n",
    "        print(\"Warna: \", self.warna)\n",
    "        print(\"Jumlah Garis: \", self.jumlahgaris)\n",
    "        print(\"Besar Tiap sudut: \", self.sudut)\n",
    "class triagle(shape):\n",
    "    def __init__(self, nama, warna, jumlahgaris, sudut):\n",
    "        self.sudut=sudut\n",
    "        super().__init__(nama, warna, jumlahgaris)\n",
    "    def showProperty(self):\n",
    "        print()\n",
    "        print(\"Nama: \", self.nama)\n",
    "        print(\"Warna: \", self.warna)\n",
    "        print(\"Jumlah Garis: \", self.jumlahgaris)\n",
    "        print(\"Besar Tiap sudut: \", self.sudut)\n",
    "\n",
    "obj1=rectangle(\"Persegi panjang\",\"Biru\",\"4\",\"90\")\n",
    "obj2=rectangle(\"Persegi panjang\",\"merah\",\"4\",\"90\")\n",
    "obj3=rectangle(\"Persegi panjang\",\"kuning\",\"4\",\"90\")\n",
    "obj4=circle(\"Lingkaran\",\"Merah\",\"0\",\"360\")\n",
    "obj5=circle(\"Lingkaran\",\"Biru\",\"0\",\"360\")\n",
    "obj6=circle(\"Lingkaran\",\"Kuning\",\"0\",\"360\")\n",
    "obj7=triagle(\"segitiga\",\"ungu\",\"3\",\"90\")\n",
    "obj8=triagle(\"segitiga\",\"orange\",\"3\",\"90\")\n",
    "obj9=triagle(\"segitiga\",\"abu abu\",\"3\",\"90\")\n",
    "\n",
    "for shape in(obj1,obj2,obj3,obj4,obj5,obj6,obj7,obj8,obj9):\n",
    "    shape.showProperty()\n",
    "\n",
    "\n"
   ]
  },
  {
   "cell_type": "markdown",
   "metadata": {},
   "source": [
    "# 4) Operator dan Method Overloading"
   ]
  },
  {
   "cell_type": "markdown",
   "metadata": {},
   "source": [
    "- **Overloading** adalah pemakaian beberapa methods ataupun properties dengan nama yang sama, tetapi memiliki daftar parameter/argument yang berbeda. Perbedaan yang dimaksud adalah beda jumlah parameter, beda tipe data, atau beda keduanya (jumlah parameter dan tipe data). Methods ataupun properties yang hanya beda return value (nilai balik) tidak bisa dikatakan sebagai overloading."
   ]
  },
  {
   "cell_type": "markdown",
   "metadata": {},
   "source": [
    "Kita bisa lihat dari contoh gambar dibawah ini : \n",
    "<img src=\"files/method-overloading.png\">"
   ]
  },
  {
   "cell_type": "markdown",
   "metadata": {},
   "source": [
    "Didalam method overloading terdapat magic method. Magic method mempunyai banyak operator.\n",
    "\n",
    "1. Binary Operators\n",
    "<img src=\"files/binary.png\">\n",
    "\n",
    "2. Extended Assignments\n",
    "<img src=\"files/extended.png\">\n",
    "\n",
    "3. Unary Operators\n",
    "<img src=\"files/unary.png\">\n",
    "\n",
    "4. Comparison Operators\n",
    "<img src=\"files/comparison.png\">"
   ]
  },
  {
   "cell_type": "code",
   "execution_count": 4,
   "metadata": {},
   "outputs": [
    {
     "name": "stdout",
     "output_type": "stream",
     "text": [
      "point object is at(3,1)\n",
      "point object is at(1,5)\n"
     ]
    }
   ],
   "source": [
    "class point:\n",
    "    def __init__ (self,x=0,y=0):\n",
    "        self.x=x\n",
    "        self.y=y\n",
    "    #def_str_(self):\n",
    "    #return\"((0),(1))\"format(self.x,self.y)\"\n",
    "    def __str__ (self):\n",
    "        return \"point object is at(\"+str(self.x)+\",\"+str(self.y)+\")\" #nilai balik\n",
    "    def __sub__ (self, other):\n",
    "        x=self.x-other.x\n",
    "        y=self.y-other.y\n",
    "        return point(x,y)\n",
    "    def __add__ (self,other):\n",
    "        x=self.x+other.x\n",
    "        y=self.y+other.y\n",
    "        return point(x,y)\n",
    "p1= point(2,3)\n",
    "p2= point(-1,2)\n",
    "print (p1-p2)\n",
    "print(p1+p2)"
   ]
  },
  {
   "cell_type": "code",
   "execution_count": 5,
   "metadata": {},
   "outputs": [
    {
     "name": "stdout",
     "output_type": "stream",
     "text": [
      "20\n",
      "120\n",
      "1451520\n"
     ]
    }
   ],
   "source": [
    "def kalikan(*args):\n",
    "    y=1\n",
    "    for x in args:\n",
    "        y=y*x\n",
    "    print(y)\n",
    "kalikan(4,5)\n",
    "kalikan(4,5,6)\n",
    "kalikan(4,5,6,7,8,9,2,3,4)"
   ]
  },
  {
   "cell_type": "code",
   "execution_count": 6,
   "metadata": {},
   "outputs": [
    {
     "name": "stdout",
     "output_type": "stream",
     "text": [
      "2/4\n",
      "2/8\n",
      "-2/8\n",
      "1/8\n"
     ]
    }
   ],
   "source": [
    "class Fraction:\n",
    "    def __init__ (self,top,bottom):\n",
    "        self.num=top\n",
    "        self.den=bottom\n",
    "    #def show(self):\n",
    "    #print(self.num,\"/\",self.den)\n",
    "    def __str__(self):\n",
    "        return str(self.num)+\"/\"+str(self.den) #method ini bisa untuk memanggil (print)\n",
    "    def __add__ (self,otherfraction):\n",
    "        newnum=self.num*otherfraction.den*otherfraction.num\n",
    "        newden=self.den*otherfraction.den\n",
    "        return Fraction(newnum,newden)\n",
    "    def __sub__ (self,otherfraction):\n",
    "        newnum=self.num*otherfraction.den-self.den*otherfraction.num\n",
    "        newden=self.den*otherfraction.den\n",
    "        return Fraction(newnum,newden)\n",
    "    def __truediv__(self,otherfraction):\n",
    "        newnum=self.num*otherfraction.num\n",
    "        newden=self.den*otherfraction.den\n",
    "        return Fraction(newnum,newden)\n",
    "f=Fraction(2,4)\n",
    "#show(f)\n",
    "print(f)\n",
    "\n",
    "\n",
    "f1=Fraction(1,4)\n",
    "f2=Fraction(1,2)\n",
    "print(f1+f2)\n",
    "print(f1-f2)\n",
    "print(f1/f2)"
   ]
  },
  {
   "cell_type": "markdown",
   "metadata": {},
   "source": [
    "# 5) Encapsulation"
   ]
  },
  {
   "cell_type": "markdown",
   "metadata": {},
   "source": [
    "- **Encapsulation** adalah proses pemaketan data bersama metode-metodenya dimana hal ini bermanfaat untuk menyembunyikan rincian-rincian implementasi dari pemakai. Dalam sebuah objek yang mengandung variabel-variabel dan method-method, dapat ditentukan hak akses pada sebuah variabel atau method dari objek. Pembungkusan variabel dan method dalam sebuah objek dalam bagian yang terlindungi inilah yang disebut dengan enkapsulasi.\n",
    "\n",
    "Ada 3 tipe penyembunyian:\n",
    "1. Public (Tanpa Underscore)\n",
    "2. Private Public (Memakai single Underscore)\n",
    "3. Private (Memakai double underscore)\n"
   ]
  },
  {
   "cell_type": "markdown",
   "metadata": {},
   "source": [
    "Kita bisa lihat dari contoh gambar dibawah ini : \n",
    "<img src=\"files/encapsulation.png\">\n",
    "\n",
    "dibawah ini adalah contoh program tentang Encapsulation"
   ]
  },
  {
   "cell_type": "code",
   "execution_count": 1,
   "metadata": {},
   "outputs": [
    {
     "name": "stdout",
     "output_type": "stream",
     "text": [
      "123\n",
      "123\n",
      "123\n"
     ]
    }
   ],
   "source": [
    "class Robot(object):\n",
    "    def __init__ (self):\n",
    "        self.a=123\n",
    "        self._b=123\n",
    "        self.__c=123\n",
    "obj= Robot()\n",
    "print(obj.a)\n",
    "print(obj._b)\n",
    "print(obj._Robot__c)"
   ]
  },
  {
   "cell_type": "code",
   "execution_count": 2,
   "metadata": {},
   "outputs": [
    {
     "name": "stdout",
     "output_type": "stream",
     "text": [
      "driving.maxspeed200\n",
      "driving.maxspeed10\n"
     ]
    }
   ],
   "source": [
    "class Car:\n",
    "    __maxspeed=0 #artibut private\n",
    "    __name=\"\"\n",
    "    \n",
    "    def __init__ (self):\n",
    "        self.__maxspeed= 200 #artibut yang bersifat private\n",
    "        self.__name=\"Supercar\"\n",
    "    def drive(self):\n",
    "        print('driving.maxspeed'+str(self.__maxspeed))\n",
    "        \n",
    "    def setMaxSpeed(self,speed):\n",
    "        self.__maxspeed= speed\n",
    "        \n",
    "redcar= Car()\n",
    "redcar.drive()\n",
    "redcar.setMaxSpeed(10) #gak beruba karena private, jika tidak diberi class\n",
    "redcar.drive()"
   ]
  },
  {
   "cell_type": "code",
   "execution_count": 3,
   "metadata": {},
   "outputs": [
    {
     "name": "stdout",
     "output_type": "stream",
     "text": [
      "This is a public method\n",
      "This is a private method\n",
      "This is another private method\n"
     ]
    }
   ],
   "source": [
    "class A(object):\n",
    "        #public method\n",
    "        def myPublicMethod(self):\n",
    "            return \"This is a public method\"\n",
    "        #private metohd with single_underscore\n",
    "        def _myPrivateMethod(self):\n",
    "            return \"This is a private method\"\n",
    "        #private metohd with double__underscore\n",
    "        def __myAnotherPrivateMethod(self):\n",
    "            return \"This is another private method\"\n",
    "        \n",
    "#nama object\n",
    "obj=A()\n",
    "#we can accses the public method which is cool!!\n",
    "print(obj.myPublicMethod()) #output:This is a public method\n",
    "\n",
    "#Note that we can also accses the private method from outside\n",
    "print(obj._myPrivateMethod()) #output: This is a private method\n",
    "\n",
    "#Have, you can still call te double underscore method\n",
    "print(obj._A__myAnotherPrivateMethod()) #output: this is another private method"
   ]
  }
 ],
 "metadata": {
  "kernelspec": {
   "display_name": "Python 3",
   "language": "python",
   "name": "python3"
  },
  "language_info": {
   "codemirror_mode": {
    "name": "ipython",
    "version": 3
   },
   "file_extension": ".py",
   "mimetype": "text/x-python",
   "name": "python",
   "nbconvert_exporter": "python",
   "pygments_lexer": "ipython3",
   "version": "3.7.1"
  }
 },
 "nbformat": 4,
 "nbformat_minor": 2
}
